{
 "cells": [
  {
   "cell_type": "code",
   "execution_count": 8,
   "metadata": {},
   "outputs": [],
   "source": [
    "import sys\n",
    "import pathlib\n",
    "import pandas as pd\n",
    "\n",
    "\n",
    "from pycytominer import annotate, aggregate\n",
    "sys.path.append(\"../\")\n",
    "from utils import io_utils"
   ]
  },
  {
   "cell_type": "code",
   "execution_count": 12,
   "metadata": {},
   "outputs": [],
   "source": [
    "# setting paths\n",
    "updated_metadata_dir = pathlib.Path(\"../metadata/updated_platemaps\").resolve(strict=True)\n",
    "sc_data_path = pathlib.Path(\"./data/single_cell_profiles\").resolve(strict=True)\n",
    "updated_barcode_path = (updated_metadata_dir / \"updated_barcode_platemap.csv\").resolve(strict=True)"
   ]
  },
  {
   "cell_type": "code",
   "execution_count": 16,
   "metadata": {},
   "outputs": [
    {
     "data": {
      "text/html": [
       "<div>\n",
       "<style scoped>\n",
       "    .dataframe tbody tr th:only-of-type {\n",
       "        vertical-align: middle;\n",
       "    }\n",
       "\n",
       "    .dataframe tbody tr th {\n",
       "        vertical-align: top;\n",
       "    }\n",
       "\n",
       "    .dataframe thead th {\n",
       "        text-align: right;\n",
       "    }\n",
       "</style>\n",
       "<table border=\"1\" class=\"dataframe\">\n",
       "  <thead>\n",
       "    <tr style=\"text-align: right;\">\n",
       "      <th></th>\n",
       "      <th>plate_barcode</th>\n",
       "      <th>platemap_file</th>\n",
       "    </tr>\n",
       "  </thead>\n",
       "  <tbody>\n",
       "    <tr>\n",
       "      <th>0</th>\n",
       "      <td>localhost240926150001</td>\n",
       "      <td>Target_Selective_Library_Screen_Plate_1_with_p...</td>\n",
       "    </tr>\n",
       "    <tr>\n",
       "      <th>1</th>\n",
       "      <td>localhost240927060001</td>\n",
       "      <td>Target_Selective_Library_Screen_Plate_1_with_p...</td>\n",
       "    </tr>\n",
       "    <tr>\n",
       "      <th>2</th>\n",
       "      <td>localhost240927120001</td>\n",
       "      <td>Target_Selective_Library_Screen_Plate_1_with_p...</td>\n",
       "    </tr>\n",
       "    <tr>\n",
       "      <th>3</th>\n",
       "      <td>localhost240928120001</td>\n",
       "      <td>Target_Selective_Library_Screen_Plate_1_with_p...</td>\n",
       "    </tr>\n",
       "  </tbody>\n",
       "</table>\n",
       "</div>"
      ],
      "text/plain": [
       "           plate_barcode                                      platemap_file\n",
       "0  localhost240926150001  Target_Selective_Library_Screen_Plate_1_with_p...\n",
       "1  localhost240927060001  Target_Selective_Library_Screen_Plate_1_with_p...\n",
       "2  localhost240927120001  Target_Selective_Library_Screen_Plate_1_with_p...\n",
       "3  localhost240928120001  Target_Selective_Library_Screen_Plate_1_with_p..."
      ]
     },
     "execution_count": 16,
     "metadata": {},
     "output_type": "execute_result"
    }
   ],
   "source": [
    "barcodes = pd.read_csv(updated_barcode_path)\n",
    "barcodes"
   ]
  },
  {
   "cell_type": "code",
   "execution_count": null,
   "metadata": {},
   "outputs": [],
   "source": []
  }
 ],
 "metadata": {
  "kernelspec": {
   "display_name": "cfret-map",
   "language": "python",
   "name": "python3"
  },
  "language_info": {
   "codemirror_mode": {
    "name": "ipython",
    "version": 3
   },
   "file_extension": ".py",
   "mimetype": "text/x-python",
   "name": "python",
   "nbconvert_exporter": "python",
   "pygments_lexer": "ipython3",
   "version": "3.11.11"
  }
 },
 "nbformat": 4,
 "nbformat_minor": 2
}
